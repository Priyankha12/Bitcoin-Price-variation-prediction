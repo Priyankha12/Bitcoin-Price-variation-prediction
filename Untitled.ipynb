{
 "cells": [
  {
   "cell_type": "code",
   "execution_count": 20,
   "metadata": {},
   "outputs": [],
   "source": [
    "import statsmodels.formula.api as smf\n",
    "import sklearn.metrics as sm\n",
    "import pandas as pd\n",
    "import numpy as np\n",
    "import math \n",
    "import sys\n",
    "data_path = 'data/'"
   ]
  },
  {
   "cell_type": "code",
   "execution_count": 4,
   "metadata": {},
   "outputs": [],
   "source": [
    "# Reading the vectors from the given csv files\n",
    "train1_90 = pd.read_csv(data_path+'/train1_90.csv')\n",
    "train1_180 = pd.read_csv(data_path+'/train1_180.csv')\n",
    "train1_360 = pd.read_csv(data_path+'/train1_360.csv')\n",
    "\n",
    "train2_90 = pd.read_csv(data_path+'/train2_90.csv')\n",
    "train2_180 = pd.read_csv(data_path+'/train2_180.csv')\n",
    "train2_360 = pd.read_csv(data_path+'/train2_360.csv')\n",
    "\n",
    "test_90 = pd.read_csv(data_path+'/test_90.csv')\n",
    "test_180 = pd.read_csv(data_path+'/test_180.csv')\n",
    "test_360 = pd.read_csv(data_path+'/test_360.csv')"
   ]
  },
  {
   "cell_type": "code",
   "execution_count": 21,
   "metadata": {},
   "outputs": [
    {
     "data": {
      "text/plain": [
       "-0.0354368471797488"
      ]
     },
     "execution_count": 21,
     "metadata": {},
     "output_type": "execute_result"
    }
   ],
   "source": [
    "def s(a, b):\n",
    "    a_center = a - np.mean(a)\n",
    "    b_center = b - np.mean(b)\n",
    "    return np.dot(a_center, b_center)/(np.std(a)*np.std(b)*a.size)\n",
    "\n",
    "def computeDelta(wt, X, Xi):\n",
    "    \"\"\"\n",
    "    This function computes equation 6 of the paper, but with the euclidean distance \n",
    "    replaced by the similarity function given in Equation 9.\n",
    "\n",
    "    Parameters\n",
    "    ----------\n",
    "    wt : int\n",
    "        This is the constant c at the top of the right column on page 4.\n",
    "    X : A row of Panda Dataframe\n",
    "        Corresponds to (x, y) in Equation 6.\n",
    "    Xi : Panda Dataframe\n",
    "        Corresponds to a dataframe of (xi, yi) in Equation 6.\n",
    "\n",
    "    Returns\n",
    "    -------\n",
    "    float\n",
    "        The output of equation 6, a prediction of the average price change.\n",
    "    \"\"\"\n",
    "    # YOUR CODE GOES HERE\n",
    "    numerator = 0\n",
    "    denominator = 0\n",
    "    for i in range(len(Xi)):\n",
    "        numerator = numerator + Xi.iloc[i,-1]*math.exp(wt*s(np.array(Xi.iloc[i,:-1]),np.array(X[:-1])))\n",
    "        denominator = denominator + math.exp(wt*s(np.array(Xi.iloc[i,:-1]),np.array(X[:-1])))\n",
    "    return numerator/denominator"
   ]
  },
  {
   "cell_type": "code",
   "execution_count": 24,
   "metadata": {},
   "outputs": [],
   "source": [
    "# Perform the Bayesian Regression to predict the average price change for each dataset of train2 using train1 as input. \n",
    "# These will be used to estimate the coefficients (w0, w1, w2, and w3) in equation 8.\n",
    "weight = 2  # This constant was not specified in the paper, but we will use 2.\n",
    "trainDeltaP90 = np.empty(0)\n",
    "trainDeltaP180 = np.empty(0)\n",
    "trainDeltaP360 = np.empty(0)\n",
    "for i in range(len(train1_90)):\n",
    "  trainDeltaP90 = np.append(trainDeltaP90, computeDelta(weight,train2_90.iloc[i],train1_90))\n",
    "for i in range(len(train1_180)):\n",
    "  trainDeltaP180 = np.append(trainDeltaP180, computeDelta(weight,train2_180.iloc[i],train1_180))\n",
    "for i in range(len(train1_360)):\n",
    "  trainDeltaP360 = np.append(trainDeltaP360, computeDelta(weight,train2_360.iloc[i],train1_360))"
   ]
  },
  {
   "cell_type": "code",
   "execution_count": 28,
   "metadata": {},
   "outputs": [],
   "source": [
    "# Actual deltaP values for the train2 data.\n",
    "trainDeltaP = np.asarray(train2_360[['Yi']])\n",
    "trainDeltaP = np.reshape(trainDeltaP, -1)\n",
    "\n",
    "\n",
    "# Combine all the training data\n",
    "d = {'deltaP': trainDeltaP,\n",
    "     'deltaP90': trainDeltaP90,\n",
    "     'deltaP180': trainDeltaP180,\n",
    "     'deltaP360': trainDeltaP360 }\n",
    "trainData = pd.DataFrame(d)"
   ]
  },
  {
   "cell_type": "code",
   "execution_count": 37,
   "metadata": {},
   "outputs": [
    {
     "name": "stdout",
     "output_type": "stream",
     "text": [
      "Intercept    -0.307294\n",
      "deltaP90     14.254037\n",
      "deltaP180   -25.938119\n",
      "deltaP360    13.255519\n",
      "dtype: float64\n"
     ]
    }
   ],
   "source": [
    "# Feed the data: [deltaP, deltaP90, deltaP180, deltaP360] to train the linear model. \n",
    "# Use the statsmodels ols function.\n",
    "# Use the variable name model for your fitted model\n",
    "# YOUR CODE HERE\n",
    "model = smf.ols(formula='deltaP ~ deltaP90 + deltaP180 + deltaP360', data=trainData).fit()\n",
    "# Print the weights from the model\n",
    "print(model.params)"
   ]
  },
  {
   "cell_type": "code",
   "execution_count": 41,
   "metadata": {},
   "outputs": [],
   "source": [
    "# Perform the Bayesian Regression to predict the average price change for each dataset of test using train1 as input.\n",
    "# This should be similar to above where it was computed for train2.\n",
    "# YOUR CODE HERE\n",
    "weight = 2  # This constant was not specified in the paper, but we will use 2.\n",
    "testDeltaP90 = np.empty(0)\n",
    "testDeltaP180 = np.empty(0)\n",
    "testDeltaP360 = np.empty(0)\n",
    "for i in range(len(test_90)):\n",
    "  testDeltaP90 = np.append(testDeltaP90, computeDelta(weight,test_90.iloc[i],train1_90))\n",
    "for i in range(len(test_180)):\n",
    "  testDeltaP180 = np.append(testDeltaP180, computeDelta(weight,test_180.iloc[i],train1_180))\n",
    "for i in range(len(test_360)):\n",
    "  testDeltaP360 = np.append(testDeltaP360, computeDelta(weight,test_360.iloc[i],train1_360))"
   ]
  },
  {
   "cell_type": "code",
   "execution_count": 43,
   "metadata": {},
   "outputs": [],
   "source": [
    "# Actual deltaP values for test data.\n",
    "# YOUR CODE HERE (use the right variable names so the below code works)\n",
    "testDeltaP = np.asarray(test_360[['Yi']])\n",
    "testDeltaP = np.reshape(testDeltaP, -1)"
   ]
  },
  {
   "cell_type": "code",
   "execution_count": 44,
   "metadata": {},
   "outputs": [],
   "source": [
    "# Combine all the test data\n",
    "d = {'deltaP': testDeltaP,\n",
    "     'deltaP90': testDeltaP90,\n",
    "     'deltaP180': testDeltaP180,\n",
    "     'deltaP360': testDeltaP360}\n",
    "testData = pd.DataFrame(d)"
   ]
  },
  {
   "cell_type": "code",
   "execution_count": 45,
   "metadata": {},
   "outputs": [],
   "source": [
    "result = model.predict(testData)\n",
    "compare = { 'Actual': testDeltaP,\n",
    "            'Predicted': result }\n",
    "compareDF = pd.DataFrame(compare)"
   ]
  },
  {
   "cell_type": "code",
   "execution_count": 51,
   "metadata": {},
   "outputs": [
    {
     "name": "stdout",
     "output_type": "stream",
     "text": [
      "The MSE is 0.953199\n"
     ]
    }
   ],
   "source": [
    "# Compute the MSE and print the result\n",
    "# HINT: consider using the sm.mean_squared_error function\n",
    "MSE = 0.0\n",
    "# YOUR CODE HERE\n",
    "MSE = sm.mean_squared_error(compareDF['Actual'], compareDF['Predicted'])\n",
    "print(\"The MSE is {}\".format(round(MSE,6)))"
   ]
  },
  {
   "cell_type": "code",
   "execution_count": null,
   "metadata": {},
   "outputs": [],
   "source": []
  }
 ],
 "metadata": {
  "kernelspec": {
   "display_name": "Python 3",
   "language": "python",
   "name": "python3"
  },
  "language_info": {
   "codemirror_mode": {
    "name": "ipython",
    "version": 3
   },
   "file_extension": ".py",
   "mimetype": "text/x-python",
   "name": "python",
   "nbconvert_exporter": "python",
   "pygments_lexer": "ipython3",
   "version": "3.7.0"
  }
 },
 "nbformat": 4,
 "nbformat_minor": 2
}
